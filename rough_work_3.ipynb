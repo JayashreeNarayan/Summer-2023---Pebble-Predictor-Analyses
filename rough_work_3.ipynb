{
 "cells": [
  {
   "cell_type": "markdown",
   "metadata": {},
   "source": [
    "# Testing a new method: Planetesimal accretion until Classical isolation mass value"
   ]
  },
  {
   "cell_type": "code",
   "execution_count": 56,
   "metadata": {},
   "outputs": [],
   "source": [
    "import numpy as np\n",
    "from astropy import constants as c\n",
    "import matplotlib.pyplot as plt\n",
    "plt.rcParams[\"font.family\"] = \"sans-serif\"\n",
    "import math as mth\n",
    "import pandas as pd\n",
    "from PP import pebble_predictor\n",
    "import OL18_new\n",
    "#from allplanets import all_planets"
   ]
  },
  {
   "cell_type": "code",
   "execution_count": 57,
   "metadata": {},
   "outputs": [],
   "source": [
    "# some useful constants in cgs\n",
    "year = 365.25*24*3600   #in seconds\n",
    "au = c.au.cgs.value\n",
    "MS = c.M_sun.cgs.value      #mass of the sun in cgs\n",
    "ME = c.M_earth.cgs.value    #mass of the earth in cgs\n",
    "k_b = c.k_B.cgs.value       #boltzmann const\n",
    "m_p = c.m_p.cgs.value       #mass of proton\n",
    "Grav = c.G.cgs.value        #gravitational const\n",
    "au = c.au.cgs.value     \n",
    "\n",
    "ZS=0.012                    #metallicity of the sun\n",
    "RS=c.R_sun.cgs.value                #Radius of sun in cm\n",
    "RE=c.R_earth.cgs.value\n",
    "\n",
    "Nr = 1000 # number of grid points      \n",
    "rhop = 1.25 # internal density of dust grains \n",
    "Rout = 1000.*au\n",
    "\n",
    "epsilon=[]\n",
    "iso=0.\n",
    "    "
   ]
  },
  {
   "cell_type": "code",
   "execution_count": 58,
   "metadata": {},
   "outputs": [],
   "source": [
    "#SAMPLE PLANETARY PARAMETERS: JUPITER\n",
    "#Qatar-1 b\t2010\t0.02332\t0.0004\t-0.0004\t12.812\t0.291\t-0.28\t411.27202\t16.52716\t-15.57367\t1.076\t0.057\t-0.053\t0.8\t0.02\t-0.02\t0.84\t0.04\t-0.04\t0.171\t0.097\t-0.094\t2017-02\n",
    "\n",
    "Z = -0.17\n",
    "\n",
    "M_star = 0.41*MS\n",
    "\n",
    "R_star = 0.41*RS\n",
    "\n",
    "location = 0.01*au\n",
    "\n",
    "alpha = 10**(-2)\n",
    "\n",
    "vfrag = 700\n",
    "\n",
    "#print(1.5*R_star/au)"
   ]
  },
  {
   "cell_type": "code",
   "execution_count": 59,
   "metadata": {},
   "outputs": [
    {
     "name": "stdout",
     "output_type": "stream",
     "text": [
      "98\n"
     ]
    }
   ],
   "source": [
    "Z0 = (10**Z)*ZS    #solids-to-gas ratio \n",
    "mdisk=0.1*M_star            #assuming that disk mass is 10% of the star mass\n",
    "Rc=30*au \n",
    "\n",
    "Rin = 1.5*R_star        #inner radius of disk is 1au and outer radius is 1000 a (HUH)\n",
    "rgrid = np.logspace(np.log10(Rin),np.log10(Rout),Nr)   \n",
    "SigmaGas = mdisk / (2.*np.pi*Rc**2.) * (rgrid/Rc)**(-1.) * np.exp(-1.*(rgrid/Rc)) # gas surface density\n",
    "SigmaDust = Z0*SigmaGas # dust surface density\n",
    "T = 280 * ((au*M_star)/(rgrid*MS))**(0.5) # temperature profile\n",
    "cs = np.sqrt(k_b*T/(2.3*m_p))      #sound speed\n",
    "OmegaK = np.sqrt(Grav*M_star/rgrid**3.) # Keplerian frequency       #using Mstar to be MS here by default\n",
    "ir = rgrid.searchsorted(location)\n",
    "#print(rgrid/au)\n",
    "print(ir)"
   ]
  },
  {
   "cell_type": "code",
   "execution_count": 60,
   "metadata": {},
   "outputs": [
    {
     "name": "stdout",
     "output_type": "stream",
     "text": [
      "value of dpdr:  -4.575487530174661e-05\n",
      "value of eta:  -0.0002433694224827033\n"
     ]
    },
    {
     "name": "stderr",
     "output_type": "stream",
     "text": [
      "/Users/jayashreenarayan/Documents/GitHub/Summer-2023---Pebble-Predictor-Analyses/PP.py:78: RuntimeWarning: overflow encountered in exp\n",
      "  stini = st0*np.exp(tgrid[it]/tgrowth[:])\n"
     ]
    }
   ],
   "source": [
    "Nt = 1000   # how many points on the time grid?\n",
    "endtime = 3.e6*year\n",
    "timegrid = np.logspace(np.log10(year),np.log10(endtime),Nt)     #starts from 1 year and ends at endtime defined above, goes for Nt number of points\n",
    "\n",
    "#finding stokes number and flux numbers\n",
    "stokes,flux_values=pebble_predictor(rgrid=rgrid,tgrid=timegrid,Mstar=M_star,SigmaGas=SigmaGas,T=T,SigmaDust=SigmaDust,alpha=alpha,vfrag=vfrag,rhop=rhop)\n",
    "\n",
    "H_g = cs/OmegaK # gas scale height\n",
    "rhog = SigmaGas / (np.sqrt(2.*np.pi)*H_g) # gas midplane density\n",
    "pressure = rhog * (cs**2.) # gas midplane pressure\n",
    "\n",
    "dpdr = (pressure[ir+1]-pressure[ir-1])/(rgrid[ir+1]-rgrid[ir-1])\n",
    "eta = dpdr / (2.*rhog[ir]*(OmegaK[ir]**2.)*rgrid[ir])\n",
    "\n",
    "print(\"value of dpdr: \", dpdr)\n",
    "print(\"value of eta: \", eta)"
   ]
  },
  {
   "cell_type": "markdown",
   "metadata": {},
   "source": [
    "# Planetesimal accretion until Classical isolation mass"
   ]
  },
  {
   "cell_type": "code",
   "execution_count": 61,
   "metadata": {},
   "outputs": [
    {
     "name": "stdout",
     "output_type": "stream",
     "text": [
      "Classical isolation mass value:  5.180039561175737e+24\n",
      "0.001ME:  5.972167867791379e+24\n",
      "0.8673633554596337\n"
     ]
    }
   ],
   "source": [
    "Classical_iso = 0.1*ME* ((SigmaDust[ir]/5)**(3/2)) * (rgrid[ir]/au)**3 * ((M_star/MS)**(-1/2))\n",
    "print(\"Classical isolation mass value: \", Classical_iso)\n",
    "print(\"0.001ME: \", 0.001*ME)\n",
    "\n",
    "print(Classical_iso / (0.001*ME))"
   ]
  },
  {
   "cell_type": "markdown",
   "metadata": {},
   "source": [
    "# Time taken to reach this Classical Isolation mass?"
   ]
  },
  {
   "cell_type": "markdown",
   "metadata": {},
   "source": [
    "## 2-fold process: \n",
    "- Step 1 (T1): Initial mass $(10^{-6})$ g to Transition mass (M_t)\n",
    "- Step 2 (T2): Transition mass (M_t) to Classical isolation mass (Classical_iso)\n",
    "- Step 3: Once classical isolation mass is reached, the planet grows by pebble accretion"
   ]
  },
  {
   "cell_type": "markdown",
   "metadata": {},
   "source": [
    "# Step 1: Calculating T1"
   ]
  },
  {
   "cell_type": "code",
   "execution_count": 74,
   "metadata": {},
   "outputs": [
    {
     "name": "stdout",
     "output_type": "stream",
     "text": [
      "Transition Radius in cm:  11585095.791451389\n",
      "Transition mass:  1.953928876965648e+22\n",
      "0.6355909410550931\n",
      "[3.2717246403997144e-06]\n"
     ]
    }
   ],
   "source": [
    "M0 = 10**(-6)*ME # initial mass of planetesimal in g\n",
    "R0 = ((3*M0)/(4*mth.pi*3))**(1/3) # initial radius of planetesimal in cm\n",
    "\n",
    "# Transition radius\n",
    "R_t = (580 * ((R0/(10**6))**(3/7)) * ((rgrid[ir]/(4*au))**(5/7)) * ((SigmaDust[ir]/3)**(2/7)) * (1000*100)) # in cm\n",
    "print(\"Transition Radius in cm: \", R_t)\n",
    "# Transition Mass\n",
    "M_t = 3 * ((4/3) * mth.pi * (R_t)**3) # in g\n",
    "print(\"Transition mass: \", M_t)\n",
    "\n",
    "# Time taken for this:\n",
    "N = mth.log2((abs(M_t)/ M0))\n",
    "tau_rg = (0.1 * 3 * R0)/(OmegaK[ir] * SigmaDust[ir])\n",
    "\n",
    "T1 = N*tau_rg\n",
    "print(T1/year)\n",
    "it2 = timegrid.searchsorted(abs(T1)) # position at which T1 exists\n",
    "totmass=[]\n",
    "for i in range(0,it2+1):\n",
    "    totmass.append(M_t/ME)\n",
    "\n",
    "print(totmass)"
   ]
  },
  {
   "cell_type": "markdown",
   "metadata": {},
   "source": [
    "# Step 2: Calculating T2\n",
    "\n",
    "### T2 is from Transition mass to classical isolation mass"
   ]
  },
  {
   "cell_type": "code",
   "execution_count": 63,
   "metadata": {},
   "outputs": [
    {
     "name": "stdout",
     "output_type": "stream",
     "text": [
      "0.0008673633554596337\n",
      "1001\n"
     ]
    },
    {
     "name": "stderr",
     "output_type": "stream",
     "text": [
      "/var/folders/dr/zf24chrd3j5b19dn9sl_9_gr0000gn/T/ipykernel_29642/2996105020.py:4: RuntimeWarning: invalid value encountered in scalar power\n",
      "  r = ((3*m)/(4*mth.pi*3))**(1/3)     #\n"
     ]
    }
   ],
   "source": [
    "for i in range(it2, 1000):\n",
    "    \n",
    "    m = totmass[-1]*ME          #At the first iteration this is the value of the transition mass, after that it increases with time\n",
    "    r = ((3*m)/(4*mth.pi*3))**(1/3)     #\n",
    "    dt=(timegrid[i]-timegrid[i-1])\n",
    "    dm= mth.pi * OmegaK[ir] * SigmaDust[ir] * r**2 * dt\n",
    "    totmass.append(((totmass[-1]*ME)+dm)/ME)\n",
    "\n",
    "    if totmass[-1] >= Classical_iso/ME:\n",
    "        totmass.append(Classical_iso/ME)\n",
    "        break\n",
    "\n",
    "print(Classical_iso/ME)\n",
    "print(len(totmass))\n",
    "k = len(totmass)\n",
    "#print(totmass)\n",
    "#print(totmass[-1])"
   ]
  },
  {
   "cell_type": "markdown",
   "metadata": {},
   "source": [
    "### Calculating T2:\n",
    "- We have obtained $M$ = $\\pi \\Omega_k \\Sigma_{plts} R_p^2 \\Delta T$\n",
    "- So then we just need $\\Delta T$ = $M$ / ($\\pi \\Omega_k \\Sigma_{plts} R_p^2$ )\n",
    "- This will be the change in time taken -- giving us the position of T2 on the timegrid.\n"
   ]
  },
  {
   "cell_type": "code",
   "execution_count": 64,
   "metadata": {},
   "outputs": [
    {
     "name": "stdout",
     "output_type": "stream",
     "text": [
      "Value of T1 in years:  0.6355909410550931\n",
      "Value of delT;  nan\n",
      "Value of T2 + T1 + delT:  nan\n",
      "Position of T2 in timegrid:  1000\n"
     ]
    }
   ],
   "source": [
    "R_p = r = ((3*(totmass[-1]*ME))/(4*mth.pi*3))**(1/3)\n",
    "delT = (totmass[-1]*ME)/(mth.pi * OmegaK[ir] * SigmaDust[ir] * R_p**2 )\n",
    "#print(delT/year)\n",
    "T2 = T1 + delT\n",
    "print(\"Value of T1 in years: \", T1/year)\n",
    "print(\"Value of delT; \", delT/year)\n",
    "print(\"Value of T2 + T1 + delT: \", T2/year)\n",
    "it3 = timegrid.searchsorted(T2)\n",
    "print(\"Position of T2 in timegrid: \", it3)"
   ]
  },
  {
   "cell_type": "code",
   "execution_count": 65,
   "metadata": {},
   "outputs": [
    {
     "name": "stdout",
     "output_type": "stream",
     "text": [
      "1001\n"
     ]
    },
    {
     "data": {
      "text/plain": [
       "nan"
      ]
     },
     "execution_count": 65,
     "metadata": {},
     "output_type": "execute_result"
    }
   ],
   "source": [
    "for i in range(k,1000):\n",
    "    totmass.append(0)\n",
    "print(len(totmass))\n",
    "totmass_arr = np.asarray(totmass)\n",
    "totmass[-2]"
   ]
  },
  {
   "cell_type": "code",
   "execution_count": 66,
   "metadata": {},
   "outputs": [
    {
     "name": "stdout",
     "output_type": "stream",
     "text": [
      "0.30921230704490693 :M_iso value in ME units\n"
     ]
    },
    {
     "data": {
      "text/plain": [
       "[<matplotlib.lines.Line2D at 0x1174647c0>]"
      ]
     },
     "execution_count": 66,
     "metadata": {},
     "output_type": "execute_result"
    },
    {
     "data": {
      "image/png": "[encoded data removed]",
      "text/plain": [
       "<Figure size 640x480 with 1 Axes>"
      ]
     },
     "metadata": {},
     "output_type": "display_data"
    }
   ],
   "source": [
    "M_iso=40*ME*(M_star/MS)*((H_g[ir]/(0.05*location))**3)\n",
    "print(M_iso/ME, \":M_iso value in ME units\")\n",
    "hgas=H_g[ir]/rgrid[ir]\n",
    "#print(totmass_arr)\n",
    "\n",
    "plt.plot(totmass_arr)"
   ]
  },
  {
   "cell_type": "code",
   "execution_count": 67,
   "metadata": {},
   "outputs": [
    {
     "name": "stdout",
     "output_type": "stream",
     "text": [
      "Initial embryo mass before pebble accretion (in units of earth masses)  nan\n",
      "Pebble accretion begings at: 1000 th position of the time grid which is at nan years\n"
     ]
    }
   ],
   "source": [
    "#Seeing values of totmass\n",
    "print(\"Initial embryo mass before pebble accretion (in units of earth masses) \",totmass[it3])\n",
    "print(\"Pebble accretion begings at:\",it3,\"th position of the time grid which is at\",T2/year,\"years\")\n"
   ]
  },
  {
   "cell_type": "markdown",
   "metadata": {},
   "source": [
    "## After reaching Classical Isolation mass:\n",
    "\n",
    "### Once the planet reaches its classical isolation mass, it starts growing by pebble accretion."
   ]
  },
  {
   "cell_type": "code",
   "execution_count": 68,
   "metadata": {},
   "outputs": [
    {
     "name": "stdout",
     "output_type": "stream",
     "text": [
      "999\n",
      "isolated?  0.0 alpha =   0.01 vfrag =  700\n"
     ]
    }
   ],
   "source": [
    "for i in range(it3,1000):             #through the entire timegrid\n",
    "    dt=(timegrid[i]-timegrid[i-1])                          #time difference\n",
    "    R=((((3/(4*mth.pi))*totmass_arr[i-1]*ME/3)**(1/3)))/location       #radius of planet in terms of au; density of the planet as it grows is\n",
    "    QP=totmass_arr[i-1]*ME/MS                                   #QP ratio\n",
    "    eps=OL18_new.epsilon_general (tau=stokes[i,ir], qp=QP, eta=eta, hgas=hgas, alphaz=alpha, Rp=R)\n",
    "    epsilon.append(eps)\n",
    "    totmass_arr[i]=totmass_arr[i-1]+((flux_values[i,ir]*eps*dt)/ME)       #this becomes the array of mass as a function of time    \n",
    "    #print(M_iso/ME)\n",
    "    if totmass_arr[i]>=M_iso/ME:\n",
    "        totmass_arr[i]=M_iso/ME\n",
    "        #iso+=1\n",
    "        #print(i)\n",
    "\n",
    "#print(totmass_arr)\n",
    "it = timegrid.searchsorted((3*(10**6)) * year)\n",
    "print(it)\n",
    "\n",
    "if totmass_arr[it]>=M_iso/ME:\n",
    "    iso+=1\n",
    "\n",
    "print(\"isolated? \",iso, \"alpha =  \", alpha, \"vfrag = \", vfrag)\n"
   ]
  },
  {
   "cell_type": "code",
   "execution_count": 69,
   "metadata": {},
   "outputs": [
    {
     "data": {
      "text/plain": [
       "nan"
      ]
     },
     "execution_count": 69,
     "metadata": {},
     "output_type": "execute_result"
    }
   ],
   "source": [
    "totmass_arr[-1]*ME"
   ]
  },
  {
   "cell_type": "code",
   "execution_count": 70,
   "metadata": {},
   "outputs": [
    {
     "data": {
      "text/plain": [
       "[<matplotlib.lines.Line2D at 0x1174debe0>]"
      ]
     },
     "execution_count": 70,
     "metadata": {},
     "output_type": "execute_result"
    },
    {
     "data": {
      "image/png": "[encoded data removed]",
      "text/plain": [
       "<Figure size 640x480 with 1 Axes>"
      ]
     },
     "metadata": {},
     "output_type": "display_data"
    }
   ],
   "source": [
    "plt.plot(totmass_arr)\n",
    "K=[]\n",
    "for i in range(len(totmass_arr)):\n",
    "    K.append(M_iso/ME)\n",
    "\n",
    "plt.plot(K)"
   ]
  }
 ],
 "metadata": {
  "kernelspec": {
   "display_name": "base",
   "language": "python",
   "name": "python3"
  },
  "language_info": {
   "codemirror_mode": {
    "name": "ipython",
    "version": 3
   },
   "file_extension": ".py",
   "mimetype": "text/x-python",
   "name": "python",
   "nbconvert_exporter": "python",
   "pygments_lexer": "ipython3",
   "version": "3.9.6"
  }
 },
 "nbformat": 4,
 "nbformat_minor": 2
}
